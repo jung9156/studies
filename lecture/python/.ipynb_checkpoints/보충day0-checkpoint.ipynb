{
 "cells": [
  {
   "cell_type": "markdown",
   "metadata": {},
   "source": [
    "## 보충 Q0.\n",
    "\n",
    "> 아래의 세부 문제를 풀어보시오."
   ]
  },
  {
   "cell_type": "code",
   "execution_count": 53,
   "metadata": {},
   "outputs": [],
   "source": [
    "# 해당 셀을 실행 해주세요.\n",
    "development = {\n",
    "    'category': ['web', 'mobile', 'algorithms', 'deep learning'],\n",
    "    'language': {\n",
    "        'python': {\n",
    "            'python standard library': ['os', 'random', 'webbrowser'],\n",
    "            'frameworks': {\n",
    "                'flask': 'micro',\n",
    "                'django': 'full-functioning'\n",
    "            },\n",
    "            'data_science': ['numpy', 'pandas', 'scipy', 'sklearn'],\n",
    "            'scraping': ['requests', 'bs4'],\n",
    "        },\n",
    "        'javascript': {\n",
    "            'frameworks': ['vue']\n",
    "        }\n",
    "    },\n",
    "    'git': {\n",
    "       'definition': 'DVCS',\n",
    "       'services': ['github', 'gitlab', 'bitbucket'],\n",
    "       'book': 'https://git-scm.com/book/ko/v2'\n",
    "    }\n",
    "}\n",
    "\n",
    "idols = {\n",
    "    'group': {\n",
    "        'bts': {\n",
    "            'leader': 'RM',\n",
    "            'members': ['진', '슈가', '제이홉', '지민', '뷔', '정국']\n",
    "        },\n",
    "        '소녀시대': {\n",
    "            'leader': '태연',\n",
    "            'members': ['써니', '티파니', '효연', '유리', '수영', '윤아', '서현']\n",
    "        },\n",
    "    },\n",
    "    'solo': ['아이유', '백예린', '지코']\n",
    "}"
   ]
  },
  {
   "cell_type": "code",
   "execution_count": 48,
   "metadata": {},
   "outputs": [
    {
     "name": "stdout",
     "output_type": "stream",
     "text": [
      "4\n"
     ]
    }
   ],
   "source": [
    "\"\"\"\n",
    "난이도* 1. 개발 카테고리(category)의 갯수를 출력하세요.\n",
    "\n",
    "출력예시)\n",
    "4\n",
    "\"\"\"\n",
    "\n",
    "a = list(development['category'])\n",
    "b = 0\n",
    "for i in a:\n",
    "    b += 1\n",
    "    \n",
    "print(b)\n"
   ]
  },
  {
   "cell_type": "code",
   "execution_count": null,
   "metadata": {},
   "outputs": [],
   "source": [
    "'a' in'apple'"
   ]
  },
  {
   "cell_type": "code",
   "execution_count": 57,
   "metadata": {},
   "outputs": [
    {
     "name": "stdout",
     "output_type": "stream",
     "text": [
      "False\n"
     ]
    }
   ],
   "source": [
    "\"\"\"\n",
    "난이도** 2. python standard library에 'requests'가 있는지 여부를 True/False로 출력하세요.\n",
    "출력예시)\n",
    "False\n",
    "\"\"\"\n",
    "b = 'requests' in development['language']['python']['python standard library']\n",
    "print(b)\n",
    "\n",
    "\n",
    "\n"
   ]
  },
  {
   "cell_type": "code",
   "execution_count": 60,
   "metadata": {},
   "outputs": [
    {
     "name": "stdout",
     "output_type": "stream",
     "text": [
      "RM\n"
     ]
    }
   ],
   "source": [
    "\"\"\"\n",
    "난이도** 3. bts 리더를 출력하세요.\n",
    "출력예시)\n",
    "RM\n",
    "\"\"\"\n",
    "a = idols['group']['bts']['leader']\n",
    "\n",
    "print(a)"
   ]
  },
  {
   "cell_type": "code",
   "execution_count": 67,
   "metadata": {},
   "outputs": [
    {
     "name": "stdout",
     "output_type": "stream",
     "text": [
      "python\n",
      "javascript\n"
     ]
    }
   ],
   "source": [
    "\"\"\"\n",
    "난이도*** 4. 개발 언어(language)를 모두 출력하세요.\n",
    "출력 예시)\n",
    "python\n",
    "web\n",
    "\"\"\"\n",
    "\n",
    "a = list(development['language'])\n",
    "\n",
    "for i in a:\n",
    "    print(i)\n",
    "\n"
   ]
  },
  {
   "cell_type": "code",
   "execution_count": 227,
   "metadata": {},
   "outputs": [
    {
     "name": "stdout",
     "output_type": "stream",
     "text": [
      "RM\n",
      "진\n",
      "슈가\n",
      "제이홉\n",
      "지민\n",
      "뷔\n",
      "정국\n",
      "태연\n",
      "써니\n",
      "티파니\n",
      "효연\n",
      "유리\n",
      "수영\n",
      "윤아\n",
      "서현\n",
      "진\n",
      "슈가\n",
      "제이홉\n",
      "지민\n",
      "뷔\n",
      "정국\n",
      "써니\n",
      "티파니\n",
      "효연\n",
      "유리\n",
      "수영\n",
      "윤아\n",
      "서현\n"
     ]
    }
   ],
   "source": [
    "\"\"\"\n",
    "난이도**** 5. 아이돌 그룹의 멤버들을 모두 출력하세요\n",
    "출력예시)\n",
    "진\n",
    "슈가\n",
    "제이홉\n",
    "지민\n",
    "뷔\n",
    "정국\n",
    "써니\n",
    "티파니\n",
    "효연\n",
    "유리\n",
    "수영\n",
    "윤아\n",
    "서현\n",
    "\"\"\"\n",
    "\n",
    "for GS in idols['group']:\n",
    "\n",
    "    for i in idols['group'][GS].keys():\n",
    "        if i == 'leader':\n",
    "            print(idols['group'][GS][i])\n",
    "        else :\n",
    "            for _ in range(len(idols['group'][GS][i])):\n",
    "                print(idols['group'][GS][i][_])\n",
    "    \n",
    "for value in idols['group'].values():\n",
    "    for a in value['members']:\n",
    "        print(a)"
   ]
  },
  {
   "cell_type": "code",
   "execution_count": 230,
   "metadata": {},
   "outputs": [
    {
     "name": "stdout",
     "output_type": "stream",
     "text": [
      "['진', '슈가', '제이홉', '지민', '뷔', '정국']\n",
      "['써니', '티파니', '효연', '유리', '수영', '윤아', '서현']\n"
     ]
    }
   ],
   "source": [
    "for val in idols['group'].values():\n",
    "    print(val['members'])"
   ]
  },
  {
   "cell_type": "code",
   "execution_count": 239,
   "metadata": {},
   "outputs": [
    {
     "ename": "SyntaxError",
     "evalue": "unexpected EOF while parsing (<ipython-input-239-d9418887901b>, line 12)",
     "output_type": "error",
     "traceback": [
      "\u001b[1;36m  File \u001b[1;32m\"<ipython-input-239-d9418887901b>\"\u001b[1;36m, line \u001b[1;32m12\u001b[0m\n\u001b[1;33m    'solo': ['아이유', '백예린', '지코']\u001b[0m\n\u001b[1;37m                                ^\u001b[0m\n\u001b[1;31mSyntaxError\u001b[0m\u001b[1;31m:\u001b[0m unexpected EOF while parsing\n"
     ]
    }
   ],
   "source": [
    "idols = {\n",
    "    'group': {\n",
    "        'bts': {\n",
    "            'leader': 'RM',\n",
    "            'members': ['진', '슈가', '제이홉', '지민', '뷔', '정국']\n",
    "        },\n",
    "        '소녀시대': {\n",
    "            'leader': '태연',\n",
    "            'members': ['써니', '티파니', '효연', '유리', '수영', '윤아', '서현']\n",
    "        },\n",
    "    },\n",
    "    'solo': ['아이유', '백예린', '지코']"
   ]
  },
  {
   "cell_type": "code",
   "execution_count": 161,
   "metadata": {},
   "outputs": [
    {
     "data": {
      "text/plain": [
       "'RM'"
      ]
     },
     "execution_count": 161,
     "metadata": {},
     "output_type": "execute_result"
    }
   ],
   "source": [
    "idols['group']['bts']['leader']"
   ]
  },
  {
   "cell_type": "code",
   "execution_count": 238,
   "metadata": {},
   "outputs": [
    {
     "name": "stdout",
     "output_type": "stream",
     "text": [
      "flask는 micro이다.\n",
      "django는 full-functioning이다.\n"
     ]
    }
   ],
   "source": [
    "\"\"\"\n",
    "난이도**** 6. framework 들의 이름과 설명을 다음과 같이 출력하세요.\n",
    "출력예시)\n",
    "flask는 micro이다.\n",
    "django는 full-functioning이다.\n",
    "\"\"\"\n",
    "\n",
    "\n",
    "\n",
    "# for name, attr in frameworks.items():\n",
    "#     print(f'{name} {attr}')\n",
    "\n",
    "for i, v in development['language']['python']['frameworks'].items():\n",
    "    print(f'{i}는 {v}이다.')\n",
    "\n"
   ]
  },
  {
   "cell_type": "code",
   "execution_count": null,
   "metadata": {},
   "outputs": [],
   "source": [
    "idols = {\n",
    "    'group': {\n",
    "        'bts': {\n",
    "            'leader': 'RM',\n",
    "            'members': ['진', '슈가', '제이홉', '지민', '뷔', '정국']\n",
    "        },\n",
    "        '소녀시대': {\n",
    "            'leader': '태연',\n",
    "            'members': ['써니', '티파니', '효연', '유리', '수영', '윤아', '서현']\n",
    "        },\n",
    "    },\n",
    "    'solo': ['아이유', '백예린', '지코']"
   ]
  },
  {
   "cell_type": "code",
   "execution_count": 246,
   "metadata": {},
   "outputs": [
    {
     "name": "stdout",
     "output_type": "stream",
     "text": [
      "지코\n"
     ]
    }
   ],
   "source": [
    "\"\"\"\n",
    "난이도***** 7. 오늘의 솔로 아이돌을 랜덤으로 한명만 뽑아주세요.\n",
    "출력예시)\n",
    "아이유\n",
    "\"\"\"\n",
    "import random\n",
    "\n",
    "print(random.choice(idols['solo']))"
   ]
  }
 ],
 "metadata": {
  "kernelspec": {
   "display_name": "Python 3",
   "language": "python",
   "name": "python3"
  },
  "language_info": {
   "codemirror_mode": {
    "name": "ipython",
    "version": 3
   },
   "file_extension": ".py",
   "mimetype": "text/x-python",
   "name": "python",
   "nbconvert_exporter": "python",
   "pygments_lexer": "ipython3",
   "version": "3.7.3"
  },
  "toc": {
   "base_numbering": 1,
   "nav_menu": {},
   "number_sections": true,
   "sideBar": true,
   "skip_h1_title": false,
   "title_cell": "Table of Contents",
   "title_sidebar": "Contents",
   "toc_cell": false,
   "toc_position": {},
   "toc_section_display": true,
   "toc_window_display": false
  }
 },
 "nbformat": 4,
 "nbformat_minor": 2
}
