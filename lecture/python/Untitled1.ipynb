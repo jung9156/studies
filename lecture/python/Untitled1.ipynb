{
 "cells": [
  {
   "cell_type": "markdown",
   "metadata": {},
   "source": [
    "어느 고등학교에서 실시한 1000명의 수학 성적을 토대로 통계 자료를 만들려고 한다.\n",
    "\n",
    "이때, 이 학교에서는 최빈수를 이용하여 학생들의 평균 수준을 짐작하는데, 여기서 최빈수는 특정 자료에서 가장 여러 번 나타나는 값을 의미한다.\n",
    "\n",
    "다음과 같은 수 분포가 있으면,\n",
    "\n",
    "10, 8, 7, 2, 2, 4, 8, 8, 8, 9, 5, 5, 3\n",
    "\n",
    "최빈수는 8이 된다.\n",
    "\n",
    "최빈수를 출력하는 프로그램을 작성하여라 (단, 최빈수가 여러 개 일 때에는 가장 큰 점수를 출력하라).\n",
    "\n",
    "첫 번째 줄에 테스트 케이스의 수 T가 주어진다.\n",
    "\n",
    "각 테스트 케이스의 첫 줄에는 테스트 케이스의 번호가 주어지고 그 다음 줄부터는 점수가 주어진다.\n",
    "\n",
    "\n",
    "#1 71\n",
    "#2 76\n",
    "......."
   ]
  },
  {
   "cell_type": "code",
   "execution_count": null,
   "metadata": {
    "scrolled": true
   },
   "outputs": [],
   "source": [
    "T = int(input())\n",
    "total_result = []\n",
    "test_n = []\n",
    "for i in range(T):\n",
    "    T2 = int(input())\n",
    "    test_n.append(T2)\n",
    "    test_score = list(map(int,input().split(' ')))\n",
    "    \n",
    "    freq_list = [0 for i in range(101)]\n",
    "    for score, val in enumerate(test_score):\n",
    "        \n",
    "        freq_list[val] += 1\n",
    "    score_list = []\n",
    "    for score, val in enumerate(freq_list):\n",
    "        if val == max(freq_list):\n",
    "            score_list.append(score)\n",
    "    total_result.append(max(score_list))\n",
    "\n",
    "for i in range(T):\n",
    "    print('#{} {}'.format(test_n[i], total_result[i]))\n",
    "\n"
   ]
  },
  {
   "cell_type": "code",
   "execution_count": null,
   "metadata": {},
   "outputs": [],
   "source": [
    "a = int(input())\n",
    "k = []\n",
    "problem_num = []\n",
    "for i in range(a):\n",
    "    result_dict = {}\n",
    "    problem_num.append(int(input()))\n",
    "    math_score = list(map(int, input().split(' ')))\n",
    "    for score in math_score:\n",
    "        if score in result_dict:\n",
    "            result_dict[score] += 1\n",
    "        else:\n",
    "            result_dict[score] = 1\n",
    "    rek = []\n",
    "    for re_sc, val in result_dict.items():\n",
    "        if val == max(result_dict.values()):\n",
    "            rek.append(re_sc)\n",
    "\n",
    "    k.append(max(rek))\n",
    "for i in range(a):\n",
    "    print('#{} {}'.format(problem_num[i], k[i]))"
   ]
  },
  {
   "cell_type": "code",
   "execution_count": null,
   "metadata": {
    "scrolled": true
   },
   "outputs": [],
   "source": [
    "test_in = list(map(int, input().split(' ')))\n",
    "def fee(x):\n",
    "    A = 0\n",
    "    B = 0\n",
    "    A = test_in[0] * test_in[4]\n",
    "    if test_in[4] <= test_in[2]:\n",
    "    B = test_in[1]\n",
    "else :\n",
    "    B = test_in[1] + test_in[4] * test_in[3]\n",
    "if A < B:\n",
    "    return A\n",
    "elif A > B:\n",
    "    return B\n"
   ]
  },
  {
   "cell_type": "code",
   "execution_count": null,
   "metadata": {
    "scrolled": false
   },
   "outputs": [],
   "source": [
    "def fee(x):\n",
    "    A = 0\n",
    "    B = 0\n",
    "    A = x[0] * x[4]\n",
    "    if x[4] <= x[2]:\n",
    "        B = x[1]\n",
    "    else :\n",
    "        B = x[1] + (x[4]-x[2]) * x[3]\n",
    "    if A < B:\n",
    "        return A\n",
    "    elif A > B:\n",
    "        return B\n",
    "\n",
    "a = int(input())\n",
    "result = []\n",
    "for i in range(a):\n",
    "    test_in = list(map(int, input().split(' ')))\n",
    "    result.append(fee(test_in))\n",
    "for i in range(a):\n",
    "    print('#{} {}'.format(i+1, result[i]))"
   ]
  },
  {
   "cell_type": "code",
   "execution_count": null,
   "metadata": {
    "scrolled": true
   },
   "outputs": [],
   "source": [
    "test_num = int(input())\n",
    "result = []\n",
    "result_len = []\n",
    "for i in range(test_num):\n",
    "    b = input()\n",
    "    stone = list(map(abs, map(int, input().split(' '))))\n",
    "    result_len.append(min(stone))\n",
    "    result.append(stone.count(min(stone)))\n",
    "    \n",
    "for i in range(test_num):\n",
    "    print('#{} {} {}'.format(i+1, result_len[i], result[i]))"
   ]
  },
  {
   "cell_type": "code",
   "execution_count": null,
   "metadata": {
    "scrolled": true
   },
   "outputs": [],
   "source": [
    "a = int(input())\n",
    "result = []\n",
    "for i in range(a):\n",
    "    test = list(range(10))\n",
    "    test_num = int(input())\n",
    "    count = 0\n",
    "    n = 1\n",
    "    while len(test) != 0:\n",
    "        test_numtest = str(test_num * n)\n",
    "        \n",
    "        for i in test_numtest:\n",
    "            \n",
    "            if int(i) in test:\n",
    "                test.remove(int(i))\n",
    "                print(i)\n",
    "            count += 1\n",
    "        n += 1\n",
    "    result.append(count)\n",
    "\n",
    "for i in range(a):\n",
    "    print('#{} {}'.format(i+1, result[i]))"
   ]
  },
  {
   "cell_type": "code",
   "execution_count": 7,
   "metadata": {},
   "outputs": [
    {
     "name": "stdout",
     "output_type": "stream",
     "text": [
      "5\n",
      "1\n",
      "2\n",
      "11\n",
      "1295\n",
      "1692\n",
      "#1 10\n",
      "#2 90\n",
      "#3 110\n",
      "#4 6475\n",
      "#5 5076\n"
     ]
    }
   ],
   "source": [
    "test_case = int(input())\n",
    "result = []\n",
    "for i in range(test_case):\n",
    "    test_num = int(input())\n",
    "    n = 1\n",
    "    check = set()\n",
    "    test_checknum = 1\n",
    "    while True:\n",
    "        test_checknum = test_num * n\n",
    "        for i in str(test_checknum):\n",
    "            check.add(i)\n",
    "\n",
    "        if len(check) == 10:\n",
    "            result.append(test_checknum)\n",
    "            break\n",
    "        \n",
    "        n += 1\n",
    "for i in range(test_case):\n",
    "    print('#{} {}'.format(i+1, result[i]))\n",
    "\n",
    "    "
   ]
  },
  {
   "cell_type": "code",
   "execution_count": 15,
   "metadata": {},
   "outputs": [
    {
     "name": "stdout",
     "output_type": "stream",
     "text": [
      "{0: 'A', 1: 'B', 2: 'C', 3: 'D', 4: 'E', 5: 'F', 6: 'G', 7: 'H', 8: 'I', 9: 'J', 10: 'K', 11: 'L', 12: 'M', 13: 'N', 14: 'O', 15: 'P', 16: 'Q', 17: 'R', 18: 'S', 19: 'T', 20: 'U', 21: 'V', 22: 'W', 23: 'X', 24: 'Y', 25: 'Z', 26: 'a', 27: 'b', 28: 'c', 29: 'd', 30: 'e', 31: 'f', 32: 'g', 33: 'h', 34: 'i', 35: 'j', 36: 'k', 37: 'l', 38: 'm', 39: 'n', 40: 'o', 41: 'p', 42: 'q', 43: 'r', 44: 's', 45: 't', 46: 'u', 47: 'v', 48: 'w', 49: 'x', 50: 'y', 51: 'z', 52: '0', 53: '1', 54: '2', 55: '3', 56: '4', 57: '5', 58: '6', 59: '7', 60: '8', 61: '9', 62: '+', 63: '/'}\n",
      "ABCDE\n"
     ]
    },
    {
     "ename": "ValueError",
     "evalue": "invalid literal for int() with base 10: 'ABCDE'",
     "output_type": "error",
     "traceback": [
      "\u001b[1;31m---------------------------------------------------------------------------\u001b[0m",
      "\u001b[1;31mValueError\u001b[0m                                Traceback (most recent call last)",
      "\u001b[1;32m<ipython-input-15-4870afff7d42>\u001b[0m in \u001b[0;36m<module>\u001b[1;34m\u001b[0m\n\u001b[0;32m      7\u001b[0m \u001b[0mprint\u001b[0m\u001b[1;33m(\u001b[0m\u001b[0mpyo\u001b[0m\u001b[1;33m)\u001b[0m\u001b[1;33m\u001b[0m\u001b[1;33m\u001b[0m\u001b[0m\n\u001b[0;32m      8\u001b[0m \u001b[1;33m\u001b[0m\u001b[0m\n\u001b[1;32m----> 9\u001b[1;33m \u001b[0mtest_case\u001b[0m \u001b[1;33m=\u001b[0m \u001b[0mint\u001b[0m\u001b[1;33m(\u001b[0m\u001b[0minput\u001b[0m\u001b[1;33m(\u001b[0m\u001b[1;33m)\u001b[0m\u001b[1;33m)\u001b[0m\u001b[1;33m\u001b[0m\u001b[1;33m\u001b[0m\u001b[0m\n\u001b[0m\u001b[0;32m     10\u001b[0m \u001b[0mtest_two\u001b[0m \u001b[1;33m=\u001b[0m \u001b[1;34m''\u001b[0m\u001b[1;33m\u001b[0m\u001b[1;33m\u001b[0m\u001b[0m\n\u001b[0;32m     11\u001b[0m \u001b[1;32mfor\u001b[0m \u001b[0mi\u001b[0m \u001b[1;32min\u001b[0m \u001b[0mrange\u001b[0m\u001b[1;33m(\u001b[0m\u001b[0mtest_case\u001b[0m\u001b[1;33m)\u001b[0m\u001b[1;33m:\u001b[0m\u001b[1;33m\u001b[0m\u001b[1;33m\u001b[0m\u001b[0m\n",
      "\u001b[1;31mValueError\u001b[0m: invalid literal for int() with base 10: 'ABCDE'"
     ]
    }
   ],
   "source": [
    "pyo1 = list(range(0, 64))\n",
    "pyo2 = 'ABCDEFGHIJKLMNOPQRSTUVWXYZabcdefghijklmnopqrstuvwxyz0123456789+/'\n",
    "pyo = {}\n",
    "\n",
    "for i, j in enumerate(pyo1):\n",
    "    pyo[i] = pyo2[i]\n",
    "print(pyo)\n",
    "\n",
    "test_case = int(input())\n",
    "test_two = ''\n",
    "for i in range(test_case):\n",
    "    test_words = input()\n",
    "    for i in test_words:\n",
    "        test_two = ''.join(pyo[str(i)])\n",
    "    print(test_two)\n"
   ]
  }
 ],
 "metadata": {
  "kernelspec": {
   "display_name": "Python 3",
   "language": "python",
   "name": "python3"
  },
  "language_info": {
   "codemirror_mode": {
    "name": "ipython",
    "version": 3
   },
   "file_extension": ".py",
   "mimetype": "text/x-python",
   "name": "python",
   "nbconvert_exporter": "python",
   "pygments_lexer": "ipython3",
   "version": "3.7.3"
  },
  "toc": {
   "base_numbering": 1,
   "nav_menu": {},
   "number_sections": true,
   "sideBar": true,
   "skip_h1_title": false,
   "title_cell": "Table of Contents",
   "title_sidebar": "Contents",
   "toc_cell": false,
   "toc_position": {},
   "toc_section_display": true,
   "toc_window_display": false
  }
 },
 "nbformat": 4,
 "nbformat_minor": 4
}
