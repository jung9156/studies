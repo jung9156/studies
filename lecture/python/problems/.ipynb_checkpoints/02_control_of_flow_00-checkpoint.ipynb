{
 "cells": [
  {
   "cell_type": "markdown",
   "metadata": {},
   "source": [
    "# 상승장? 하락장?\n",
    "\n",
    "> 최고가와 최저가의 차이를 변동폭으로 정의할 때 (시가 + 변동폭)이 최고가 보다 높을 경우 \"상승장\", 그렇지 않은 경우 \"하락장\" 문자열을 출력하세요.\n",
    "\n",
    "|Key Name|Description|\n",
    "|------|---|\n",
    "|opeing_price|최근 24시간 내 시작 거래금액|\n",
    "|closing_price|최근 24시간 내 마지막 거래금액|\n",
    "|min_price|최근 24시간 내 최저 거래금액|\n",
    "|max_price|최근 24시간 내 최고 거래금액|"
   ]
  },
  {
   "cell_type": "code",
   "execution_count": 3,
   "metadata": {},
   "outputs": [],
   "source": [
    "import requests\n",
    "\n",
    "url = 'https://api.bithumb.com/public/ticker/btc'\n",
    "data = { k: float(v) for k, v in requests.get(url).json()['data'].items() }\n",
    "\n",
    "# 아래에 코드를 작성하세요."
   ]
  },
  {
   "cell_type": "code",
   "execution_count": 13,
   "metadata": {},
   "outputs": [
    {
     "name": "stdout",
     "output_type": "stream",
     "text": [
      "\"상승장\"\n"
     ]
    }
   ],
   "source": [
    "vary = (data['max_price'] - data['min_price'])\n",
    "\n",
    "\n",
    "if (data['opening_price'] + vary) > data['max_price']:\n",
    "    print('\"상승장\"')\n",
    "else :\n",
    "    print('\"하락장\"')"
   ]
  },
  {
   "cell_type": "markdown",
   "metadata": {},
   "source": [
    "# 모음 제거하기\n",
    "\n",
    "> 다음 문장의 모음을 제거하여 출력하세요.\n",
    "\n",
    "---\n",
    "\n",
    "```\n",
    "예시 입력)\n",
    "'Life is too short, you need python'\n",
    "\n",
    "예시 출력)\n",
    "Lf s t shrt, y nd pythn\n",
    "```"
   ]
  },
  {
   "cell_type": "code",
   "execution_count": 14,
   "metadata": {},
   "outputs": [],
   "source": [
    "my_str = 'Life is too short, you need python'\n",
    "\n",
    "# 아래에 코드를 작성하세요."
   ]
  },
  {
   "cell_type": "code",
   "execution_count": 17,
   "metadata": {},
   "outputs": [
    {
     "name": "stdout",
     "output_type": "stream",
     "text": [
      "Lf s t shrt, y nd pythn"
     ]
    }
   ],
   "source": [
    "a = ['a', 'e', 'i', 'o', 'u']\n",
    "for i in my_str:\n",
    "    if i not in a:\n",
    "        print(i,end=\"\")\n",
    "\n"
   ]
  },
  {
   "cell_type": "markdown",
   "metadata": {},
   "source": [
    "# 과일 개수 골라내기\n",
    "\n",
    "> 장바구니에 아래와 같은 과일이 들어있고 과일 판별 리스트가 있습니다.\n",
    "\n",
    "```python\n",
    "basket_items = {'apples': 4, 'oranges': 19, 'kites': 3, 'sandwiches': 8}\n",
    "\n",
    "fruits = ['apples', 'oranges', 'pears', 'peaches', 'grapes', 'bananas']\n",
    "\n",
    "```\n",
    "> 현재 장바구니에는 과일이 몇개이고 과일이 아닌 것은 몇개인지 출력하세요.\n",
    "---\n",
    "```\n",
    "예시 출력)\n",
    "과일은 23개이고, 11개는 과일이 아닙니다..\n",
    "```"
   ]
  },
  {
   "cell_type": "code",
   "execution_count": 18,
   "metadata": {},
   "outputs": [],
   "source": [
    "basket_items = {'apples': 4, 'oranges': 19, 'kites': 3, 'sandwiches': 8}\n",
    "fruits = ['apples', 'oranges', 'pears', 'peaches', 'grapes', 'bananas']\n",
    "\n",
    "# 아래에 코드를 작성하세요."
   ]
  },
  {
   "cell_type": "code",
   "execution_count": 20,
   "metadata": {},
   "outputs": [
    {
     "name": "stdout",
     "output_type": "stream",
     "text": [
      "과일은 23개이고, 11개는 과일이 아닙니다..\n"
     ]
    }
   ],
   "source": [
    "a = 0\n",
    "b = 0\n",
    "\n",
    "for _ in basket_items.keys():\n",
    "    if _ in fruits:\n",
    "        a += basket_items[_]\n",
    "    else:\n",
    "        b += basket_items[_]\n",
    "print(f'과일은 {a}개이고, {b}개는 과일이 아닙니다..')"
   ]
  },
  {
   "cell_type": "markdown",
   "metadata": {},
   "source": [
    "# 영어 이름 출력하기 \n",
    "\n",
    "> 영어 이름은 가운데 이름을 가지고 있는 경우가 있습니다.\n",
    ">\n",
    "> 가운데 이름은 대문자로 축약해서 나타내는 코드를 작성하세요.\n",
    "\n",
    "---\n",
    "```\n",
    "예시 입력)\n",
    "Alice Betty Catherine Davis\n",
    "```\n",
    "```\n",
    "예시 출력)\n",
    "Alice B. C. Davis\n",
    "```"
   ]
  },
  {
   "cell_type": "code",
   "execution_count": 72,
   "metadata": {},
   "outputs": [
    {
     "name": "stdout",
     "output_type": "stream",
     "text": [
      "Harry Junho Ron Potter\n"
     ]
    }
   ],
   "source": [
    "name = input()\n",
    "names = name.split()\n",
    "\n",
    "# 아래에 코드를 작성하세요."
   ]
  },
  {
   "cell_type": "code",
   "execution_count": 73,
   "metadata": {},
   "outputs": [
    {
     "name": "stdout",
     "output_type": "stream",
     "text": [
      "Harry J. R. Potter "
     ]
    }
   ],
   "source": [
    "# for i in range(0, len(names)):\n",
    "#     if i in range(1, len(names)-1):\n",
    "#         print(names[i][0],end='. ')\n",
    "#     else:\n",
    "#         print(names[i],end=' ')\n",
    "\n",
    "# for i in range(1, len(names)-1):\n",
    "#     names[i] = names[i][0] + '.'\n",
    "\n",
    "# for _ in names:\n",
    "#     print (_,end=\" \")"
   ]
  },
  {
   "cell_type": "code",
   "execution_count": 81,
   "metadata": {},
   "outputs": [
    {
     "name": "stdout",
     "output_type": "stream",
     "text": [
      "Harry J. R. Potter\n"
     ]
    }
   ],
   "source": [
    "for i in range(1, len(names)-1):\n",
    "    names[i] = names[i][0].upper() + '.'\n",
    "print(' '.join(names))"
   ]
  }
 ],
 "metadata": {
  "kernelspec": {
   "display_name": "Python 3",
   "language": "python",
   "name": "python3"
  },
  "language_info": {
   "codemirror_mode": {
    "name": "ipython",
    "version": 3
   },
   "file_extension": ".py",
   "mimetype": "text/x-python",
   "name": "python",
   "nbconvert_exporter": "python",
   "pygments_lexer": "ipython3",
   "version": "3.7.3"
  },
  "toc": {
   "base_numbering": 1,
   "nav_menu": {},
   "number_sections": true,
   "sideBar": true,
   "skip_h1_title": false,
   "title_cell": "Table of Contents",
   "title_sidebar": "Contents",
   "toc_cell": false,
   "toc_position": {},
   "toc_section_display": true,
   "toc_window_display": false
  }
 },
 "nbformat": 4,
 "nbformat_minor": 2
}
