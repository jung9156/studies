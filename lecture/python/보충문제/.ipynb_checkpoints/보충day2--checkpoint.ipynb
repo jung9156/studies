{
 "cells": [
  {
   "cell_type": "markdown",
   "metadata": {},
   "source": [
    "## 보충 Q0.\n",
    "\n",
    "주어진 리스트 내에 주어진 단어들 중에서 길이가 가장 짧은 단어를 찾아 해당 단어를 찾아주세요. 동일한 길이의 단어가 2개 이상 존재하지 않는다고 가정합니다.\n",
    "\n",
    "```python\n",
    "words = [\"tiger\", \"cat\", \"lion\", \"mouse\"]\n",
    "\n",
    "예시 출력)\n",
    "cat\n",
    "```"
   ]
  },
  {
   "cell_type": "code",
   "execution_count": 2,
   "metadata": {},
   "outputs": [],
   "source": [
    "words = [\"tiger\", \"cat\", \"lion\", \"mouse\"]\n",
    "# 아래에 코드를 작성하세요."
   ]
  },
  {
   "cell_type": "code",
   "execution_count": 11,
   "metadata": {},
   "outputs": [
    {
     "name": "stdout",
     "output_type": "stream",
     "text": [
      "cat\n"
     ]
    }
   ],
   "source": [
    "a = words[0]\n",
    "for i in words:\n",
    "    if i != 'tiger':\n",
    "        if len(a) > len(i):\n",
    "            a = i\n",
    "    else :\n",
    "        continue\n",
    "print(a)"
   ]
  },
  {
   "cell_type": "code",
   "execution_count": null,
   "metadata": {},
   "outputs": [],
   "source": [
    "print(words['tiger'])"
   ]
  },
  {
   "cell_type": "code",
   "execution_count": null,
   "metadata": {},
   "outputs": [],
   "source": [
    "a = words[0]\n",
    "for i in range(1, len(words)):\n",
    "    if len(a) < len(words[i]):\n",
    "        a= a\n",
    "    else:\n",
    "        a = words[i]\n",
    "print(a)\n",
    "    \n",
    "    #     a = len(i)\n",
    "    # 짧은 길이 아이 출력 \n"
   ]
  },
  {
   "cell_type": "code",
   "execution_count": null,
   "metadata": {},
   "outputs": [],
   "source": [
    "#선생님 답\n",
    "# 비교 기준점 선정\n",
    "shortest_word = words[0]\n",
    "\n",
    "# 기준점 이후의 요소들을 차례로 뽑아서 비교 시작\n",
    "for word in range(1, len(words)):  #== range(1, 4)\n",
    "    # 새로 들어온 단어가 shortest_word 보다 짧으면 새로운 값으로 재할당 \n",
    "    if len(words[i]) < len(shortest_word):\n",
    "        shortest_word = words[i]\n",
    "    # 새로 들어온 단어가 shortest_word 보다 길면 그냥 그대로 유지\n",
    "print(shortest_word)    \n",
    "\n",
    "\n",
    "#비교 문제가 나온다면 임의로 기준점을 잡는다. 보통 가장 먼저것을 잡는다. 그렇게 계속 바뀌고 바뀌다가 최종적으로 남는 애가 남는 것. "
   ]
  },
  {
   "cell_type": "markdown",
   "metadata": {},
   "source": [
    "## 보충 Q1.\n",
    "\n",
    "> 양수/음수/0의 비율을 각각 순서대로 출력하시오.\n",
    "\n",
    "```\n",
    "예시 입력)\n",
    "0 -1 3 5 \n",
    "\n",
    "예시 출력)\n",
    "0.5 0.25 0.25\n",
    "```\n",
    "\n"
   ]
  },
  {
   "cell_type": "code",
   "execution_count": 4,
   "metadata": {},
   "outputs": [
    {
     "name": "stdout",
     "output_type": "stream",
     "text": [
      "0 -1 3 5\n"
     ]
    }
   ],
   "source": [
    "numbers = input()\n",
    "# 아래에 코드를 작성하세요."
   ]
  },
  {
   "cell_type": "code",
   "execution_count": 6,
   "metadata": {},
   "outputs": [
    {
     "name": "stdout",
     "output_type": "stream",
     "text": [
      "[0, -1, 3, 5]\n"
     ]
    }
   ],
   "source": [
    "a = list(map(int, numbers.split(' ')))\n",
    "x = 0\n",
    "y = 0\n",
    "z = 0\n",
    "t = len(a)\n",
    "for _ on a:\n",
    "    if _ >0:\n",
    "        x += 1\n",
    "    elif _ == 0:\n",
    "        y += 1\n",
    "    else :\n",
    "        z += 1\n",
    "x"
   ]
  },
  {
   "cell_type": "code",
   "execution_count": null,
   "metadata": {},
   "outputs": [],
   "source": [
    "# map 함수\n",
    "# map(함수, 리스트 또는 반복 가능한 객체)\n",
    "# 2번째 인자인 리스트의 요소요소에 첫번째 인자로 들어간 함수를 적용시키는 것(마치 for 문처럼)\n",
    "\n",
    "# 실수가 저장된 리스트가 있을 때 모든 요소를 정수로 변환 하려면?\n",
    "a = [1.5, 2.1, 3.3, 4.2]\n",
    "for i in range(len(a)):\n",
    "    a[i] = int(a[i])\n",
    "print(a)\n",
    "# 위 풀이의 문제는 매번 for로 반복하면서 요소를 변환하려니 조금 번거로운 느낌이 있다. \n",
    "\n",
    "# map 사용\n",
    "print(map(int, a))\n",
    "\n",
    "print(list(map(int, a)))\n",
    "\n",
    "\n"
   ]
  },
  {
   "cell_type": "code",
   "execution_count": null,
   "metadata": {},
   "outputs": [],
   "source": [
    "#numbers = input()\n",
    "#print(type(numbers))\n",
    "\n",
    "# 문자열을 리스트로 변환\n",
    "numbers = input().split()\n",
    "# 문자열 -> split -> 문자열 요소 리스트 -> map -> 정수 요소 리스트\n",
    "numbers = list(map(int, numbers))\n",
    "\n",
    "# 반복문을 통해 numbers 에서 뽑은 요소가 0보다 큰지 작은지 아닌지를 판단해서\n",
    "# 카운트를 하고, 비율을 알아야 하기 때문에 카운트 값을 numbers의 길이로 나눈다. \n",
    "\n",
    "negative_count = 0\n",
    "positive_count = 0\n",
    "zero_count = 0\n",
    "all_len= len(numbers)\n",
    "\n",
    "for number in numbers:\n",
    "    if number < 0:\n",
    "        negative_count += 1\n",
    "    elif number > 0:\n",
    "        positive_count += 1\n",
    "    else:\n",
    "        zero_count += 1\n",
    "\n",
    "print(positive_count/all_len, positive_count/all_len, zero_count/all_len)"
   ]
  },
  {
   "cell_type": "markdown",
   "metadata": {},
   "source": [
    "## 보충 Q2.\n",
    "\n",
    "> justin과 neo가 카드게임을 하고 있다. 아래의 예시 값은 카드를 낸 순서이다. \n",
    ">\n",
    "> 숫자를 비교해서 같으면 0점, 숫자가 더 크면 1점이라고 할 때 justin과 neo의 점수를 순서대로 출력하시오.\n",
    "\n",
    "```\n",
    "예시 값)\n",
    "justin = [10, 6, 8, 2, 1]\n",
    "neo = [2, 7, 3, 5, 10]\n",
    "\n",
    "예시 출력)\n",
    "2 3\n",
    "```"
   ]
  },
  {
   "cell_type": "code",
   "execution_count": 11,
   "metadata": {},
   "outputs": [],
   "source": [
    "justin = [10, 6, 8, 2, 1]\n",
    "neo = [2, 7, 3, 5, 10]\n",
    "\n",
    "# 아래에 코드를 작성하세요."
   ]
  },
  {
   "cell_type": "code",
   "execution_count": 14,
   "metadata": {},
   "outputs": [
    {
     "name": "stdout",
     "output_type": "stream",
     "text": [
      "2 3\n"
     ]
    }
   ],
   "source": [
    "j = 0\n",
    "n = 0\n",
    "for i in range(len(justin)):\n",
    "    if int(justin[i]) > int(neo[i]):\n",
    "        j += 1\n",
    "    elif int(justin[i]) < int(neo[i]):\n",
    "        n += 1\n",
    "        \n",
    "print(f'{j} {n}')"
   ]
  },
  {
   "cell_type": "code",
   "execution_count": null,
   "metadata": {},
   "outputs": [],
   "source": [
    "# 같은 길이 리스트 비교 (같은 위치의 요소끼리 비교 -> 같은 인덱스)\n",
    "# 외부에 카운트 변수 2개 생성\n",
    "# 기준점 하나를 잡고 enumerate 로 인덱스 값 까지 뽑아오면서 비교\n",
    "\n",
    "justin_score = 0               # 저장할 값을 가장 먼저 짜고 \n",
    "neo_score = 0\n",
    "\n",
    "for idx, value in enumerate(justin):                  # 반복 조건을 걸고 \n",
    "    if value > neo[idx]:\n",
    "        justin_score += 1\n",
    "    elif value < neo[idx]:\n",
    "        neo_score += 1\n",
    "print(justin_score, neo_score)"
   ]
  },
  {
   "cell_type": "markdown",
   "metadata": {},
   "source": [
    "## 보충 Q3.\n",
    "\n",
    "> 두 단어 중에 중복된 알파벳이 있는지 여부를 판단하여 True 혹은 False를 반환하시오.\n",
    "\n",
    "```\n",
    "예시 입력)\n",
    "print(is_contain_same_alphabet('my', 'sweet home'))\n",
    "print(is_contain_same_alphabet('oreo', 'kikat'))\n",
    "\n",
    "예시 출력)\n",
    "True\n",
    "False\n",
    "```"
   ]
  },
  {
   "cell_type": "code",
   "execution_count": null,
   "metadata": {},
   "outputs": [],
   "source": [
    "def is_contain_same_alphabet(a, b):\n",
    "    # 아래에 코드를 작성하시오."
   ]
  },
  {
   "cell_type": "code",
   "execution_count": 6,
   "metadata": {},
   "outputs": [
    {
     "name": "stdout",
     "output_type": "stream",
     "text": [
      "oreo\n",
      "kitkat\n",
      "False\n"
     ]
    }
   ],
   "source": [
    "a = input()\n",
    "b = input()\n",
    "def is_contain_same_alphabet(a, b):\n",
    "    for i in a:\n",
    "        if i in b:\n",
    "            return True\n",
    "            break\n",
    "            \n",
    "        else :\n",
    "            return False\n",
    "print(is_contain_same_alphabet(a, b))\n",
    "            \n",
    "            "
   ]
  },
  {
   "cell_type": "code",
   "execution_count": null,
   "metadata": {},
   "outputs": [],
   "source": [
    "# 함수의 종료 조건은 return. 그래서 아래 return True가 되는 순간 return False로 내려가지 않음. \n",
    "# 함수는 반드시 return과 함께 종료된다. \n",
    "\n",
    "def is_contain_same_alphabet(a, b):\n",
    "    # a 에 들어오는 인자를 하나씩 뽑아서 \n",
    "    for char in a:\n",
    "        # b 인자에 들어 있는지 확인\n",
    "        if char in b:\n",
    "            return True\n",
    "    return False"
   ]
  },
  {
   "cell_type": "code",
   "execution_count": null,
   "metadata": {},
   "outputs": [],
   "source": [
    "is_contain_same_alphabet('my', 'sweet home')   #만약 주피터 노트북에서 안쓰고 vs코드 같은데서 실행하려면 return값에 print함수 해야함. "
   ]
  },
  {
   "cell_type": "code",
   "execution_count": null,
   "metadata": {},
   "outputs": [],
   "source": [
    "is_contain_same_alphabet('oreo', 'kikat')"
   ]
  },
  {
   "cell_type": "code",
   "execution_count": null,
   "metadata": {},
   "outputs": [],
   "source": []
  }
 ],
 "metadata": {
  "kernelspec": {
   "display_name": "Python 3",
   "language": "python",
   "name": "python3"
  },
  "language_info": {
   "codemirror_mode": {
    "name": "ipython",
    "version": 3
   },
   "file_extension": ".py",
   "mimetype": "text/x-python",
   "name": "python",
   "nbconvert_exporter": "python",
   "pygments_lexer": "ipython3",
   "version": "3.7.3"
  },
  "toc": {
   "base_numbering": 1,
   "nav_menu": {},
   "number_sections": true,
   "sideBar": true,
   "skip_h1_title": false,
   "title_cell": "Table of Contents",
   "title_sidebar": "Contents",
   "toc_cell": false,
   "toc_position": {},
   "toc_section_display": true,
   "toc_window_display": false
  }
 },
 "nbformat": 4,
 "nbformat_minor": 2
}
